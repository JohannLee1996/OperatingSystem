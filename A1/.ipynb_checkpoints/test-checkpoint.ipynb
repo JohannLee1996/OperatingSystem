{
 "cells": [
  {
   "cell_type": "code",
   "execution_count": 12,
   "metadata": {},
   "outputs": [],
   "source": [
    "class Flight:\n",
    "    def __init__(self, C, N, P, O, HM, T, D):\n",
    "        self.C = C\n",
    "        self.N = N\n",
    "        self.P = P\n",
    "        self.O = O\n",
    "        self.HM = HM\n",
    "        self.T = T\n",
    "        self.D = D\n",
    "        \n",
    "        self.DT = 0\n",
    "        self.AT = 0\n",
    "        self.delay = self.AT-self.DT-self.T-20\n",
    "        \n",
    "    def see(self):\n",
    "        print (self.C, self.N, self.P, self.O, self.HM, self.T, self.D)\n",
    "        \n",
    "    def get(self):\n",
    "        return (self.C, self.N, self.P, self.O, self.HM, self.T, self.D)"
   ]
  },
  {
   "cell_type": "code",
   "execution_count": 42,
   "metadata": {},
   "outputs": [],
   "source": [
    "class PQueue:\n",
    "    def __init__(self):\n",
    "        self.items = []\n",
    "        \n",
    "    def enqueue(self, item):\n",
    "        assert item is not Flight\n",
    "        self.items.append(item)\n",
    "        self.items = sorted(self.items, key = lambda x:x.HM)\n",
    "        \n",
    "    def dequeue(self):\n",
    "        return self.items.pop()\n",
    "    \n",
    "    def remove(self, item):\n",
    "        self.items.remove(item)\n",
    "    \n",
    "    def peek(self):\n",
    "        return self.items[0]"
   ]
  },
  {
   "cell_type": "code",
   "execution_count": 15,
   "metadata": {},
   "outputs": [],
   "source": [
    "class Airport:\n",
    "    def __init__(self, code):\n",
    "        self.code = code\n",
    "        self.takingOff = PQueue()\n",
    "        self.landing = PQueue()\n",
    "        self.enroute = PQueue()\n",
    "        self.waiting = PQueue()\n",
    "        self.status = True\n",
    "        \n",
    "    def addFlight(self, flight, q):\n",
    "        assert flight is not Flight\n",
    "        opt = {\n",
    "            't': self.takingOff.enqueue(flight),\n",
    "            'l': self.landing.enqueue(flight),\n",
    "            'e': self.enroute.enqueue(flight),\n",
    "            'w': self.waiting.enqueue(flight),\n",
    "        }\n",
    "        opt[q]\n",
    "        \n",
    "    def rmFlight(self, flight, q):\n",
    "        assert flight is not Flight\n",
    "        opt = {\n",
    "            't': self.takingOff.remove(flight),\n",
    "            'l': self.landing.remove(flight),\n",
    "            'e': self.enroute.remove(flight),\n",
    "            'w': self.waiting.remove(flight),\n",
    "        }\n",
    "        opt[q]"
   ]
  },
  {
   "cell_type": "code",
   "execution_count": 16,
   "metadata": {},
   "outputs": [],
   "source": [
    "def loadFlights(flights, ss):\n",
    "    for s in ss:\n",
    "        s = s.split()\n",
    "        f = Flight(s[0], int(s[1]), int(s[2]), s[3], int(s[4]), int(s[5]), s[6])\n",
    "        flights.append(f)\n",
    "        \n",
    "    return flights"
   ]
  },
  {
   "cell_type": "code",
   "execution_count": 21,
   "metadata": {},
   "outputs": [],
   "source": [
    "def loadAirports(airports, flights):\n",
    "    for item in flights:\n",
    "        if item.O not in airports:\n",
    "            airports[item.O] = Airport(item.O)\n",
    "        if item.D not in airports:\n",
    "            airports[item.D] = Airport(item.D)\n",
    "            \n",
    "    return airports"
   ]
  },
  {
   "cell_type": "code",
   "execution_count": 43,
   "metadata": {},
   "outputs": [
    {
     "name": "stdout",
     "output_type": "stream",
     "text": [
      "{'YHZ': <__main__.Airport object at 0x1109e7da0>, 'YYZ': <__main__.Airport object at 0x1109e79b0>, 'YZZ': <__main__.Airport object at 0x110a63a90>, 'YXZ': <__main__.Airport object at 0x110a63b00>, 'YBZ': <__main__.Airport object at 0x110a63ba8>, 'YXC': <__main__.Airport object at 0x110a63d30>}\n"
     ]
    }
   ],
   "source": [
    "ss = ['AC 612 42 YHZ 1535 120 YYZ',\n",
    "      'AB 602 12 YZZ 1505 120 YXZ',\n",
    "      'AA 502 32 YBZ 1200 90 YXC',\n",
    "      'AA 522 34 YBZ 1600 110 YXC',\n",
    "      'AA 524 24 YBZ 1400 130 YXC',\n",
    "    ]\n",
    "\n",
    "flights = []\n",
    "airports = {}\n",
    "\n",
    "flights = loadFlights(flights, ss)\n",
    "airports = loadAirports(airports, flights)\n",
    "print(airports)\n"
   ]
  },
  {
   "cell_type": "code",
   "execution_count": 44,
   "metadata": {},
   "outputs": [],
   "source": [
    "for f in flights:\n",
    "    ta = airports[f.O]\n",
    "    ta.addFlight(f,'t')"
   ]
  },
  {
   "cell_type": "code",
   "execution_count": 45,
   "metadata": {},
   "outputs": [
    {
     "data": {
      "text/plain": [
       "(1200, 1400, 1600)"
      ]
     },
     "execution_count": 45,
     "metadata": {},
     "output_type": "execute_result"
    }
   ],
   "source": [
    "airports['YBZ'].takingOff.items[0].HM, airports['YBZ'].takingOff.items[1].HM, airports['YBZ'].takingOff.items[2].HM"
   ]
  },
  {
   "cell_type": "code",
   "execution_count": 18,
   "metadata": {},
   "outputs": [
    {
     "name": "stdout",
     "output_type": "stream",
     "text": [
      "[<__main__.Flight object at 0x1109e04a8>, <__main__.Flight object at 0x1109e0630>, <__main__.Flight object at 0x1109e0710>]\n",
      "{'YHZ': <__main__.Flight object at 0x1109e04a8>, 'YYZ': <__main__.Flight object at 0x1109e04a8>, 'YZZ': <__main__.Flight object at 0x1109e0630>, 'YXZ': <__main__.Flight object at 0x1109e0630>, 'YBZ': <__main__.Flight object at 0x1109e0710>, 'YXC': <__main__.Flight object at 0x1109e0710>}\n"
     ]
    }
   ],
   "source": [
    "ss = ['AC 612 42 YHZ 1535 120 YYZ',\n",
    "     'AB 602 12 YZZ 1505 120 YXZ',\n",
    "     'AA 502 32 YBZ 1200 90 YXC',\n",
    "    ]\n",
    "\n",
    "flights = []\n",
    "airports = {}\n",
    "\n",
    "flights = loadFlights(flights, ss)\n",
    "airports = loadAirports(airports, flights)\n",
    "\n",
    "print(flights)\n",
    "print(airports)"
   ]
  },
  {
   "cell_type": "code",
   "execution_count": null,
   "metadata": {},
   "outputs": [],
   "source": [
    "\n",
    "\n"
   ]
  },
  {
   "cell_type": "code",
   "execution_count": null,
   "metadata": {},
   "outputs": [],
   "source": []
  },
  {
   "cell_type": "code",
   "execution_count": null,
   "metadata": {},
   "outputs": [],
   "source": []
  },
  {
   "cell_type": "code",
   "execution_count": null,
   "metadata": {},
   "outputs": [],
   "source": []
  },
  {
   "cell_type": "code",
   "execution_count": null,
   "metadata": {},
   "outputs": [],
   "source": []
  },
  {
   "cell_type": "code",
   "execution_count": null,
   "metadata": {},
   "outputs": [],
   "source": []
  }
 ],
 "metadata": {
  "kernelspec": {
   "display_name": "Python 3",
   "language": "python",
   "name": "python3"
  },
  "language_info": {
   "codemirror_mode": {
    "name": "ipython",
    "version": 3
   },
   "file_extension": ".py",
   "mimetype": "text/x-python",
   "name": "python",
   "nbconvert_exporter": "python",
   "pygments_lexer": "ipython3",
   "version": "3.6.5"
  }
 },
 "nbformat": 4,
 "nbformat_minor": 2
}
